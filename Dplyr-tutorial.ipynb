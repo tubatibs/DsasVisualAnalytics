{
 "cells": [
  {
   "cell_type": "code",
   "execution_count": 1,
   "metadata": {
    "collapsed": false
   },
   "outputs": [
    {
     "name": "stderr",
     "output_type": "stream",
     "text": [
      "\n",
      "Attaching package: 'dplyr'\n",
      "\n",
      "The following objects are masked from 'package:stats':\n",
      "\n",
      "    filter, lag\n",
      "\n",
      "The following objects are masked from 'package:base':\n",
      "\n",
      "    intersect, setdiff, setequal, union\n",
      "\n"
     ]
    }
   ],
   "source": [
    "library(dplyr)\n",
    "library(tidyr)\n",
    "library(stringr)\n",
    "library(geohash)"
   ]
  },
  {
   "cell_type": "code",
   "execution_count": 37,
   "metadata": {
    "collapsed": false
   },
   "outputs": [],
   "source": [
    "library(downloader)\n",
    "# Blight Violations\n",
    "dbvurl <- \"https://d18ky98rnyall9.cloudfront.net/_97bd1c1e5df9537bb13398c9898deed7_detroit-blight-violations.csv?Expires=1484524800&Signature=hlHM02mABfvFUvErGgrV3u31Nr8GO6cwNPX1Z0wzrdY5o8q7faWEsmeoOcGE5p43iH3-WEtliSCduHMa~nrVcxeZpM-vvNhNXIU3D8m~0yBqrjbCpTeVdaC0IA-RgKNN1NfgMHoeSjSItNmjXcVfFq3U5X~xbNuv0DI4No8Qe80_&Key-Pair-Id=APKAJLTNE6QMUY6HBC5A\"\n",
    "DBVFileName <- \"detroit-blight-violations.csv\"\n",
    "if (!file.exists(DBVFileName)) \n",
    "    download(dbvurl, DBVFileName)\n",
    "detBlightViol <- read.csv(\"detroit-blight-violations.csv\", stringsAsFactors = FALSE,\n",
    "                  strip.white = TRUE, na.strings ='' )   \n",
    "    \n",
    "# Detroit Demolition Permits \n",
    "ddpurl <- \"https://d18ky98rnyall9.cloudfront.net/_dcebfb2135a2bf5a6392493bd61aba22_detroit-demolition-permits.tsv?Expires=1487116800&Signature=A-ZtSkr8DZMpetuP4NNGPpz327wizHe9iw2SUTvlU5-eOJ1eTgnIflqgmfnaJJ-ultJMdawSbRD-tp5vtc45CnB1E9nMGwO-mFrca3z8bz3HKL09YgJEU2bM571hYeULyucNTcjejsQMmfZno8N2Qs9AwDigjlD1Ixy-pnyk2Ns_&Key-Pair-Id=APKAJLTNE6QMUY6HBC5A\"\n",
    "DDPFileName <- \"detroit-demolition-permits.tsv\"\n",
    "if (!file.exists(DDPFileName)) \n",
    "    download(ddpurl, DDPFileName)\n",
    "detDemolitionPermit <- read.delim(\"detroit-demolition-permits.tsv\", header=TRUE, allowEscapes=FALSE, sep=\"\\t\", na.strings=\"\", comment.char=\"\")\n",
    "\n",
    "    \n",
    "# Detroit 311 calls\n",
    "d311url <- \"https://d18ky98rnyall9.cloudfront.net/_dcebfb2135a2bf5a6392493bd61aba22_detroit-311.csv?Expires=1487116800&Signature=i9Aq7nh9-0FvxpRKJLXXxN~XA~vVQ-Nk5AndCHEaoBY5vAf1CT8lt9xnVXwL5sbcMGD3LDIc~6LnB8daTqFgJFgKki86q885HsgiLH2-GnZy5zVmSEtkv0bPmMKwPbs10SNgNl7td~8CUb3MhmpUiQr1KjbeYTQYYZWUzJGZGNI_&Key-Pair-Id=APKAJLTNE6QMUY6HBC5A\"\n",
    "D311FileName <- \"detroit-311.csv\"\n",
    "if (!file.exists(D311FileName)) \n",
    "    download(d311url, D311FileName)\n",
    "det311 <- read.csv(\"detroit-311.csv\", stringsAsFactors = FALSE,\n",
    "                  strip.white = TRUE, na.strings ='' )  \n",
    "\n",
    "# Detroit Crime \n",
    "dcrurl <- \"https://d18ky98rnyall9.cloudfront.net/_dcebfb2135a2bf5a6392493bd61aba22_detroit-311.csv?Expires=1487116800&Signature=i9Aq7nh9-0FvxpRKJLXXxN~XA~vVQ-Nk5AndCHEaoBY5vAf1CT8lt9xnVXwL5sbcMGD3LDIc~6LnB8daTqFgJFgKki86q885HsgiLH2-GnZy5zVmSEtkv0bPmMKwPbs10SNgNl7td~8CUb3MhmpUiQr1KjbeYTQYYZWUzJGZGNI_&Key-Pair-Id=APKAJLTNE6QMUY6HBC5A\"\n",
    "DCRFileName <- \"detroit-crime.csv\"\n",
    "if (!file.exists(DCRFileName)) \n",
    "    download(dcrurl, DCRFileName)\n",
    "detCrime <- read.csv(\"detroit-crime.csv\", stringsAsFactors = FALSE,\n",
    "                  strip.white = TRUE, na.strings ='' )    \n",
    "       "
   ]
  },
  {
   "cell_type": "code",
   "execution_count": 38,
   "metadata": {
    "collapsed": false
   },
   "outputs": [
    {
     "name": "stderr",
     "output_type": "stream",
     "text": [
      "Warning message:\n",
      "\"Too few values at 14 locations: 18, 23, 28, 88, 89, 94, 99, 144, 172, 189, 194, 206, 227, 335\""
     ]
    }
   ],
   "source": [
    "#dplyr mutate to extract (LAT,LNG) from ViolationAddress\n",
    "detBlightViol <- detBlightViol %>%\n",
    "    mutate(latlng = gsub(\".*\\\\n\", \"\", ViolationAddress)) %>%\n",
    "    transform(latlng = gsub('[()]','', latlng)) %>%\n",
    "    filter(latlng != 'character(0)') %>%\n",
    "    transform(latlng = gsub('[()]','', latlng)) %>%\n",
    "    separate(latlng, c('LAT', 'LNG'), ', ')\n",
    "#head(detBlightViol)\n",
    "\n",
    "#dplyr mutate to extract (LAT,LNG) from site_location\n",
    "detDemolitionPermit <- detDemolitionPermit %>%\n",
    "    mutate(latlng = gsub(\".*\\\\n\", \"\", site_location)) %>%\n",
    "    transform(latlng = gsub('[()]','', latlng)) %>%\n",
    "    filter(latlng != 'character(0)') %>%\n",
    "    transform(latlng = gsub('[()]','', latlng)) %>%\n",
    "    separate(latlng, c('LAT', 'LNG'), ', ')\n",
    "\n"
   ]
  },
  {
   "cell_type": "code",
   "execution_count": 39,
   "metadata": {
    "collapsed": false
   },
   "outputs": [],
   "source": [
    "#dplyr filter to create gh_8 gh_7 and uid colums \n",
    "detBlightViol <- detBlightViol %>%\n",
    "    mutate(gh_8 = gh_encode(as.numeric(LAT), as.numeric(LNG), 8),\n",
    "           gh_7 = gh_encode(as.numeric(LAT), as.numeric(LNG), 7),\n",
    "           uid = paste0('blightviol_',row_number()))\n",
    "\n",
    "detDemolitionPermit <- detDemolitionPermit %>%\n",
    "    mutate(gh_8 = gh_encode(as.numeric(LAT), as.numeric(LNG), 8),\n",
    "           gh_7 = gh_encode(as.numeric(LAT), as.numeric(LNG), 7),\n",
    "           uid = paste0('demolper',row_number()))\n",
    "\n",
    "det311 <- det311 %>%\n",
    "    mutate(gh_8 = gh_encode(as.numeric(lat), as.numeric(lng), 8),\n",
    "           gh_7 = gh_encode(as.numeric(lat), as.numeric(lng), 7),\n",
    "           uid = paste0('det311',row_number()))\n",
    "\n",
    "detCrime <- detCrime %>%\n",
    "    mutate(gh_8 = gh_encode(as.numeric(lat), as.numeric(lng), 8),\n",
    "           gh_7 = gh_encode(as.numeric(lat), as.numeric(lng), 7),\n",
    "           uid = paste0('detcrim',row_number()))"
   ]
  },
  {
   "cell_type": "code",
   "execution_count": 41,
   "metadata": {
    "collapsed": false
   },
   "outputs": [
    {
     "data": {
      "text/plain": [
       "     gh_8           dbv_ngbr_8_ct      \n",
       " Length:67974       Min.   :    1.000  \n",
       " Class :character   1st Qu.:    1.000  \n",
       " Mode  :character   Median :    3.000  \n",
       "                    Mean   :    4.528  \n",
       "                    3rd Qu.:    5.000  \n",
       "                    Max.   :21114.000  "
      ]
     },
     "metadata": {},
     "output_type": "display_data"
    },
    {
     "data": {
      "text/plain": [
       "     gh_8           ddp_ngbr_8_ct    \n",
       " Length:4596        Min.   :  1.000  \n",
       " Class :character   1st Qu.:  1.000  \n",
       " Mode  :character   Median :  1.000  \n",
       "                    Mean   :  1.377  \n",
       "                    3rd Qu.:  1.000  \n",
       "                    Max.   :548.000  "
      ]
     },
     "metadata": {},
     "output_type": "display_data"
    },
    {
     "data": {
      "text/plain": [
       "     gh_8           d311_ngbr_8_ct  \n",
       " Length:15933       Min.   : 1.000  \n",
       " Class :character   1st Qu.: 1.000  \n",
       " Mode  :character   Median : 1.000  \n",
       "                    Mean   : 1.235  \n",
       "                    3rd Qu.: 1.000  \n",
       "                    Max.   :90.000  "
      ]
     },
     "metadata": {},
     "output_type": "display_data"
    },
    {
     "data": {
      "text/plain": [
       "     gh_8           dcr_ngbr_8_ct   \n",
       " Length:15933       Min.   : 1.000  \n",
       " Class :character   1st Qu.: 1.000  \n",
       " Mode  :character   Median : 1.000  \n",
       "                    Mean   : 1.235  \n",
       "                    3rd Qu.: 1.000  \n",
       "                    Max.   :90.000  "
      ]
     },
     "metadata": {},
     "output_type": "display_data"
    }
   ],
   "source": [
    "dbv_gh_8_grp <- detBlightViol %>%\n",
    "    group_by(gh_8) %>%\n",
    "    summarize(dbv_ngbr_8_ct = n()) %>%\n",
    "    arrange(gh_8,desc(dbv_ngbr_8_ct))\n",
    "\n",
    "ddp_gh_8_grp <- detDemolitionPermit %>%\n",
    "    group_by(gh_8) %>%\n",
    "    summarize(ddp_ngbr_8_ct = n()) %>%\n",
    "    arrange(gh_8,desc(ddp_ngbr_8_ct))\n",
    "\n",
    "d311_gh_8_grp <- det311 %>%\n",
    "    group_by(gh_8) %>%\n",
    "    summarize(d311_ngbr_8_ct = n()) %>%\n",
    "    arrange(gh_8,desc(d311_ngbr_8_ct))\n",
    "\n",
    "dcr_gh_8_grp <- detCrime %>%\n",
    "    group_by(gh_8) %>%\n",
    "    summarize(dcr_ngbr_8_ct = n()) %>%\n",
    "    arrange(gh_8,desc(dcr_ngbr_8_ct))\n",
    "\n",
    "\n",
    "#summary(dbv_gh_8_grp)\n",
    "#summary(ddp_gh_8_grp)\n",
    "#summary(d311_gh_8_grp)\n",
    "#summary(dcr_gh_8_grp)"
   ]
  },
  {
   "cell_type": "code",
   "execution_count": 42,
   "metadata": {
    "collapsed": false
   },
   "outputs": [
    {
     "data": {
      "text/plain": [
       "     gh_7           dbv_ngbr_7_ct     \n",
       " Length:15320       Min.   :    1.00  \n",
       " Class :character   1st Qu.:    6.00  \n",
       " Mode  :character   Median :   13.00  \n",
       "                    Mean   :   20.09  \n",
       "                    3rd Qu.:   25.00  \n",
       "                    Max.   :21128.00  "
      ]
     },
     "metadata": {},
     "output_type": "display_data"
    },
    {
     "data": {
      "text/plain": [
       "     gh_7           ddp_ngbr_7_ct    \n",
       " Length:3417        Min.   :  1.000  \n",
       " Class :character   1st Qu.:  1.000  \n",
       " Mode  :character   Median :  1.000  \n",
       "                    Mean   :  1.853  \n",
       "                    3rd Qu.:  2.000  \n",
       "                    Max.   :548.000  "
      ]
     },
     "metadata": {},
     "output_type": "display_data"
    },
    {
     "data": {
      "text/plain": [
       "     gh_7           d311_ngbr_7_ct  \n",
       " Length:9256        Min.   : 1.000  \n",
       " Class :character   1st Qu.: 1.000  \n",
       " Mode  :character   Median : 1.000  \n",
       "                    Mean   : 2.126  \n",
       "                    3rd Qu.: 3.000  \n",
       "                    Max.   :95.000  "
      ]
     },
     "metadata": {},
     "output_type": "display_data"
    },
    {
     "data": {
      "text/plain": [
       "     gh_7           dcr_ngbr_7_ct   \n",
       " Length:9256        Min.   : 1.000  \n",
       " Class :character   1st Qu.: 1.000  \n",
       " Mode  :character   Median : 1.000  \n",
       "                    Mean   : 2.126  \n",
       "                    3rd Qu.: 3.000  \n",
       "                    Max.   :95.000  "
      ]
     },
     "metadata": {},
     "output_type": "display_data"
    }
   ],
   "source": [
    "dbv_gh_7_grp <- detBlightViol %>%\n",
    "    group_by(gh_7) %>%\n",
    "    summarize(dbv_ngbr_7_ct = n()) %>%\n",
    "    arrange(gh_7,desc(dbv_ngbr_7_ct))\n",
    "\n",
    "ddp_gh_7_grp <- detDemolitionPermit %>%\n",
    "    group_by(gh_7) %>%\n",
    "    summarize(ddp_ngbr_7_ct = n()) %>%\n",
    "    arrange(gh_7,desc(ddp_ngbr_7_ct))\n",
    "\n",
    "d311_gh_7_grp <- det311 %>%\n",
    "    group_by(gh_7) %>%\n",
    "    summarize(d311_ngbr_7_ct = n()) %>%\n",
    "    arrange(gh_7,desc(d311_ngbr_7_ct))\n",
    "\n",
    "dcr_gh_7_grp <- detCrime %>%\n",
    "    group_by(gh_7) %>%\n",
    "    summarize(dcr_ngbr_7_ct = n()) %>%\n",
    "    arrange(gh_7,desc(dcr_ngbr_7_ct))\n",
    "\n",
    "summary(dbv_gh_7_grp)\n",
    "summary(ddp_gh_7_grp)\n",
    "summary(d311_gh_7_grp)\n",
    "summary(dcr_gh_7_grp)"
   ]
  },
  {
   "cell_type": "code",
   "execution_count": 10,
   "metadata": {
    "collapsed": false
   },
   "outputs": [
    {
     "data": {
      "text/html": [
       "<table>\n",
       "<thead><tr><th scope=col>lat</th><th scope=col>lng</th><th scope=col>lat_error</th><th scope=col>lng_error</th></tr></thead>\n",
       "<tbody>\n",
       "\t<tr><td>42.33161    </td><td>-83.04789   </td><td>8.583069e-05</td><td>0.0001716614</td></tr>\n",
       "</tbody>\n",
       "</table>\n"
      ],
      "text/latex": [
       "\\begin{tabular}{r|llll}\n",
       " lat & lng & lat\\_error & lng\\_error\\\\\n",
       "\\hline\n",
       "\t 42.33161     & -83.04789    & 8.583069e-05 & 0.0001716614\\\\\n",
       "\\end{tabular}\n"
      ],
      "text/markdown": [
       "\n",
       "lat | lng | lat_error | lng_error | \n",
       "|---|\n",
       "| 42.33161     | -83.04789    | 8.583069e-05 | 0.0001716614 | \n",
       "\n",
       "\n"
      ],
      "text/plain": [
       "  lat      lng       lat_error    lng_error   \n",
       "1 42.33161 -83.04789 8.583069e-05 0.0001716614"
      ]
     },
     "metadata": {},
     "output_type": "display_data"
    }
   ],
   "source": []
  },
  {
   "cell_type": "code",
   "execution_count": null,
   "metadata": {
    "collapsed": true
   },
   "outputs": [],
   "source": []
  }
 ],
 "metadata": {
  "anaconda-cloud": {},
  "kernelspec": {
   "display_name": "R",
   "language": "R",
   "name": "ir"
  },
  "language_info": {
   "codemirror_mode": "r",
   "file_extension": ".r",
   "mimetype": "text/x-r-source",
   "name": "R",
   "pygments_lexer": "r",
   "version": "3.3.2"
  }
 },
 "nbformat": 4,
 "nbformat_minor": 1
}
