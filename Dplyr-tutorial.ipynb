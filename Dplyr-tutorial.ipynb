{
 "cells": [
  {
   "cell_type": "code",
   "execution_count": 2,
   "metadata": {
    "collapsed": false
   },
   "outputs": [
    {
     "name": "stderr",
     "output_type": "stream",
     "text": [
      "\n",
      "Attaching package: ‘dplyr’\n",
      "\n",
      "The following object is masked from ‘package:randomForest’:\n",
      "\n",
      "    combine\n",
      "\n",
      "The following objects are masked from ‘package:stats’:\n",
      "\n",
      "    filter, lag\n",
      "\n",
      "The following objects are masked from ‘package:base’:\n",
      "\n",
      "    intersect, setdiff, setequal, union\n",
      "\n"
     ]
    }
   ],
   "source": [
    "library(dplyr)\n",
    "library(tidyr)\n",
    "library(stringr)\n",
    "library(geohash)"
   ]
  },
  {
   "cell_type": "code",
   "execution_count": 3,
   "metadata": {
    "collapsed": false
   },
   "outputs": [],
   "source": [
    "library(downloader)\n",
    "# Blight Violations\n",
    "#dbvurl <- \"https://d18ky98rnyall9.cloudfront.net/_97bd1c1e5df9537bb13398c9898deed7_detroit-blight-violations.csv?Expires=1484524800&Signature=hlHM02mABfvFUvErGgrV3u31Nr8GO6cwNPX1Z0wzrdY5o8q7faWEsmeoOcGE5p43iH3-WEtliSCduHMa~nrVcxeZpM-vvNhNXIU3D8m~0yBqrjbCpTeVdaC0IA-RgKNN1NfgMHoeSjSItNmjXcVfFq3U5X~xbNuv0DI4No8Qe80_&Key-Pair-Id=APKAJLTNE6QMUY6HBC5A\"\n",
    "dbvurl <- \"https://d18ky98rnyall9.cloudfront.net/_97bd1c1e5df9537bb13398c9898deed7_detroit-blight-violations.csv?Expires=1487808000&Signature=gHUOfvUDTW-h~HuT0YXBeapK~jrxVV~G~ItLJCGvxfndaU-ZnP0OI1lurvBMMbxRy3JymGjsyrfMZvY8uXkywWwOeRT3JzfyXftxHVbDpw6rRsfOgmR0Bwu6HHIbcSSANPjFG9p6FwpQh1YyJUKvMj8IQCoaanPuG10SRLWg7Bc_&Key-Pair-Id=APKAJLTNE6QMUY6HBC5A\"\n",
    "DBVFileName <- \"detroit-blight-violations.csv\"\n",
    "if (!file.exists(DBVFileName)) \n",
    "    download(dbvurl, DBVFileName)\n",
    "detBlightViol <- read.csv(\"detroit-blight-violations.csv\", stringsAsFactors = FALSE,\n",
    "                  strip.white = TRUE, na.strings ='' )   \n",
    "    \n",
    "# Detroit Demolition Permits \n",
    "#ddpurl <- \"https://d18ky98rnyall9.cloudfront.net/_dcebfb2135a2bf5a6392493bd61aba22_detroit-demolition-permits.tsv?Expires=1487116800&Signature=A-ZtSkr8DZMpetuP4NNGPpz327wizHe9iw2SUTvlU5-eOJ1eTgnIflqgmfnaJJ-ultJMdawSbRD-tp5vtc45CnB1E9nMGwO-mFrca3z8bz3HKL09YgJEU2bM571hYeULyucNTcjejsQMmfZno8N2Qs9AwDigjlD1Ixy-pnyk2Ns_&Key-Pair-Id=APKAJLTNE6QMUY6HBC5A\"\n",
    "ddpurl <- \"https://d18ky98rnyall9.cloudfront.net/_dcebfb2135a2bf5a6392493bd61aba22_detroit-demolition-permits.tsv?Expires=1487808000&Signature=GIkiK8yRf70Fya8VNatb9t~lXh5VD4kX05GZMKlqb3l2lX-z9aXk4okJQao6dOfApCcdgM~-6L3KlBG1YKhFbCKQqagI2ALjFt-PTkJeCyfPFSQ5FqMcQlh7qUClpZCH7F~zJA9X-vutv6IIaS-tKt22sAGgwu9X6lCtw6raPBo_&Key-Pair-Id=APKAJLTNE6QMUY6HBC5A\"\n",
    "DDPFileName <- \"detroit-demolition-permits.tsv\"\n",
    "if (!file.exists(DDPFileName)) \n",
    "    download(ddpurl, DDPFileName)\n",
    "detDemolitionPermit <- read.delim(\"detroit-demolition-permits.tsv\", header=TRUE, allowEscapes=FALSE, sep=\"\\t\", na.strings=\"\", comment.char=\"\")\n",
    "\n",
    "    \n",
    "# Detroit 311 calls\n",
    "#d311url <- \"https://d18ky98rnyall9.cloudfront.net/_dcebfb2135a2bf5a6392493bd61aba22_detroit-311.csv?Expires=1487116800&Signature=i9Aq7nh9-0FvxpRKJLXXxN~XA~vVQ-Nk5AndCHEaoBY5vAf1CT8lt9xnVXwL5sbcMGD3LDIc~6LnB8daTqFgJFgKki86q885HsgiLH2-GnZy5zVmSEtkv0bPmMKwPbs10SNgNl7td~8CUb3MhmpUiQr1KjbeYTQYYZWUzJGZGNI_&Key-Pair-Id=APKAJLTNE6QMUY6HBC5A\"\n",
    "d311url <- \"https://d18ky98rnyall9.cloudfront.net/_dcebfb2135a2bf5a6392493bd61aba22_detroit-311.csv?Expires=1487808000&Signature=PTTniMA9xRitX6DycZSOORb45gCHgqeHDQABaMn54N6CswNJmFIXEYolvrWNCXlp~K4gn9zaSUOm27eQJhmEg4n7FUTJ5ZrWnVWBOfFRxouPgcglrdqUHfx-HKqnTMByfTLcEPmEqhZLKg7d9SLYsx4Cc2vwxCFshMjhpEF7ZwA_&Key-Pair-Id=APKAJLTNE6QMUY6HBC5A\"\n",
    "D311FileName <- \"detroit-311.csv\"\n",
    "if (!file.exists(D311FileName)) \n",
    "    download(d311url, D311FileName)\n",
    "det311 <- read.csv(\"detroit-311.csv\", stringsAsFactors = FALSE,\n",
    "                  strip.white = TRUE, na.strings ='' )  \n",
    "\n",
    "# Detroit Crime \n",
    "#dcrurl <- \"https://d18ky98rnyall9.cloudfront.net/_dcebfb2135a2bf5a6392493bd61aba22_detroit-311.csv?Expires=1487116800&Signature=i9Aq7nh9-0FvxpRKJLXXxN~XA~vVQ-Nk5AndCHEaoBY5vAf1CT8lt9xnVXwL5sbcMGD3LDIc~6LnB8daTqFgJFgKki86q885HsgiLH2-GnZy5zVmSEtkv0bPmMKwPbs10SNgNl7td~8CUb3MhmpUiQr1KjbeYTQYYZWUzJGZGNI_&Key-Pair-Id=APKAJLTNE6QMUY6HBC5A\"\n",
    "dcrurl <- \"https://d18ky98rnyall9.cloudfront.net/_dcebfb2135a2bf5a6392493bd61aba22_detroit-crime.csv?Expires=1487808000&Signature=POU~pk3A00i-iFJpAT9ytnBpfygEdMrPcITocHFPPHbyHegki~dcECrUD1kWApMOYmymWt2Vrm5c5mWmKG1pwpIaMPLwFGkF5kUkMTgCLuask2b0LnKcDOI86WzRYmkBsN2VvSQxXNK9y8CvCs2pUVzmwYbwGwstsOqbZei-Ohg_&Key-Pair-Id=APKAJLTNE6QMUY6HBC5A\"\n",
    "DCRFileName <- \"detroit-crime.csv\"\n",
    "if (!file.exists(DCRFileName)) \n",
    "    download(dcrurl, DCRFileName)\n",
    "detCrime <- read.csv(\"detroit-crime.csv\", stringsAsFactors = FALSE,\n",
    "                  strip.white = TRUE, na.strings ='' )    \n",
    "       "
   ]
  },
  {
   "cell_type": "code",
   "execution_count": 4,
   "metadata": {
    "collapsed": false
   },
   "outputs": [
    {
     "name": "stderr",
     "output_type": "stream",
     "text": [
      "Warning message:\n",
      "“Too few values at 14 locations: 18, 23, 28, 88, 89, 94, 99, 144, 172, 189, 194, 206, 227, 335”"
     ]
    }
   ],
   "source": [
    "#dplyr mutate to extract (LAT,LNG) from ViolationAddress\n",
    "detBlightViol <- detBlightViol %>%\n",
    "    mutate(latlng = gsub(\".*\\\\n\", \"\", ViolationAddress)) %>%\n",
    "    transform(latlng = gsub('[()]','', latlng)) %>%\n",
    "    filter(latlng != 'character(0)') %>%\n",
    "    transform(latlng = gsub('[()]','', latlng)) %>%\n",
    "    separate(latlng, c('LAT', 'LNG'), ', ')\n",
    "#head(detBlightViol)\n",
    "\n",
    "#dplyr mutate to extract (LAT,LNG) from site_location\n",
    "detDemolitionPermit <- detDemolitionPermit %>%\n",
    "    mutate(latlng = gsub(\".*\\\\n\", \"\", site_location)) %>%\n",
    "    transform(latlng = gsub('[()]','', latlng)) %>%\n",
    "    filter(latlng != 'character(0)') %>%\n",
    "    transform(latlng = gsub('[()]','', latlng)) %>%\n",
    "    separate(latlng, c('LAT', 'LNG'), ', ')\n",
    "\n"
   ]
  },
  {
   "cell_type": "code",
   "execution_count": 5,
   "metadata": {
    "collapsed": false
   },
   "outputs": [],
   "source": [
    "#dplyr filter to create gh_8 gh_7 and uid colums \n",
    "detBlightViol <- detBlightViol %>%\n",
    "    mutate(gh_8 = gh_encode(as.numeric(LAT), as.numeric(LNG), 8),\n",
    "           gh_7 = gh_encode(as.numeric(LAT), as.numeric(LNG), 7),\n",
    "           uid = paste0('blightviol_',row_number()))\n",
    "\n",
    "detDemolitionPermit <- detDemolitionPermit %>%\n",
    "    mutate(gh_8 = gh_encode(as.numeric(LAT), as.numeric(LNG), 8),\n",
    "           gh_7 = gh_encode(as.numeric(LAT), as.numeric(LNG), 7),\n",
    "           uid = paste0('demolper',row_number()))\n",
    "\n",
    "det311 <- det311 %>%\n",
    "    mutate(gh_8 = gh_encode(as.numeric(lat), as.numeric(lng), 8),\n",
    "           gh_7 = gh_encode(as.numeric(lat), as.numeric(lng), 7),\n",
    "           uid = paste0('det311',row_number()))\n",
    "\n",
    "detCrime <- detCrime %>%\n",
    "    mutate(gh_8 = gh_encode(as.numeric(LAT), as.numeric(LON), 8),\n",
    "           gh_7 = gh_encode(as.numeric(LAT), as.numeric(LON), 7),\n",
    "           uid = paste0('detcrim',row_number()))"
   ]
  },
  {
   "cell_type": "code",
   "execution_count": 6,
   "metadata": {
    "collapsed": false
   },
   "outputs": [],
   "source": [
    "dbv_gh_8_grp <- detBlightViol %>%\n",
    "    group_by(gh_8) %>%\n",
    "    summarize(dbv_ngbr_8_ct = n()) %>%\n",
    "    arrange(gh_8,desc(dbv_ngbr_8_ct))\n",
    "\n",
    "ddp_gh_8_grp <- detDemolitionPermit %>%\n",
    "    group_by(gh_8) %>%\n",
    "    summarize(ddp_ngbr_8_ct = n()) %>%\n",
    "    arrange(gh_8,desc(ddp_ngbr_8_ct))\n",
    "\n",
    "d311_gh_8_grp <- det311 %>%\n",
    "    group_by(gh_8) %>%\n",
    "    summarize(d311_ngbr_8_ct = n()) %>%\n",
    "    arrange(gh_8,desc(d311_ngbr_8_ct))\n",
    "\n",
    "dcr_gh_8_grp <- detCrime %>%\n",
    "    group_by(gh_8) %>%\n",
    "    summarize(dcr_ngbr_8_ct = n()) %>%\n",
    "    arrange(gh_8,desc(dcr_ngbr_8_ct))\n"
   ]
  },
  {
   "cell_type": "code",
   "execution_count": 7,
   "metadata": {
    "collapsed": false
   },
   "outputs": [],
   "source": [
    "dbv_gh_7_grp <- detBlightViol %>%\n",
    "    group_by(gh_7) %>%\n",
    "    summarize(dbv_ngbr_7_ct = n()) %>%\n",
    "    arrange(gh_7,desc(dbv_ngbr_7_ct))\n",
    "\n",
    "ddp_gh_7_grp <- detDemolitionPermit %>%\n",
    "    group_by(gh_7) %>%\n",
    "    summarize(ddp_ngbr_7_ct = n()) %>%\n",
    "    arrange(gh_7,desc(ddp_ngbr_7_ct))\n",
    "\n",
    "d311_gh_7_grp <- det311 %>%\n",
    "    group_by(gh_7) %>%\n",
    "    summarize(d311_ngbr_7_ct = n()) %>%\n",
    "    arrange(gh_7,desc(d311_ngbr_7_ct))\n",
    "\n",
    "dcr_gh_7_grp <- detCrime %>%\n",
    "    group_by(gh_7) %>%\n",
    "    summarize(dcr_ngbr_7_ct = n()) %>%\n",
    "    arrange(gh_7,desc(dcr_ngbr_7_ct))"
   ]
  },
  {
   "cell_type": "code",
   "execution_count": 8,
   "metadata": {
    "collapsed": false
   },
   "outputs": [],
   "source": [
    "detBlightViolV <- left_join(detBlightViol, dbv_gh_8_grp, by = c(\"gh_8\" = \"gh_8\"))\n",
    "detBlightViolVD <- left_join(detBlightViolV, ddp_gh_8_grp, by = c(\"gh_8\" = \"gh_8\"))\n",
    "detBlightViolVD3 <- left_join(detBlightViolVD, d311_gh_8_grp, by = c(\"gh_8\" = \"gh_8\"))\n",
    "detBlightViolVD3C <- left_join(detBlightViolVD3, dcr_gh_8_grp, by = c(\"gh_8\" = \"gh_8\"))"
   ]
  },
  {
   "cell_type": "code",
   "execution_count": 9,
   "metadata": {
    "collapsed": false
   },
   "outputs": [
    {
     "name": "stderr",
     "output_type": "stream",
     "text": [
      "Warning message in eval(expr, envir, enclos):\n",
      "“NAs introduced by coercion”"
     ]
    }
   ],
   "source": [
    "keep <- c(\"LAT\",\"LNG\",\"gh_8\", \"gh_7\", \"dbv_ngbr_8_ct\", \"ddp_ngbr_8_ct\", \"d311_ngbr_8_ct\", \"dcr_ngbr_8_ct\",  \"ViolationCategory\", \"CleanUpCost\", \"JudgmentAmt\", \"PaymentStatus\", \"FineAmt\", \"AdminFee\", \"LateFee\", \"AgencyName\")\n",
    "detBlightViolVD3C <- detBlightViolVD3C[keep]\n",
    "\n",
    "detBlightViolVD3C$PaymentStatus[detBlightViolVD3C$PaymentStatus==\"PAID IN FULL\"] <- 1\n",
    "detBlightViolVD3C$PaymentStatus[detBlightViolVD3C$PaymentStatus==\"PARTIAL PAYMENT MADE\"] <- 2\n",
    "detBlightViolVD3C$PaymentStatus[detBlightViolVD3C$PaymentStatus==\"NO PAYMENT APPLIED\"] <- 3\n",
    "detBlightViolVD3C$PaymentStatus[detBlightViolVD3C$PaymentStatus==\"NO PAYMENT ON RECORD\"] <- 4\n",
    "\n",
    "detBlightViolVD3C$PaymentStatus <- as.numeric(detBlightViolVD3C$PaymentStatus)\n",
    "\n",
    "detBlightViolVD3C$AgencyName[detBlightViolVD3C$AgencyName==\"Department of Public Works\"] <- 1\n",
    "detBlightViolVD3C$AgencyName[detBlightViolVD3C$AgencyName==\"Building and Safety Engineering Department\"] <- 2\n",
    "detBlightViolVD3C$AgencyName[detBlightViolVD3C$AgencyName==\"Health Department\"] <- 3\n",
    "detBlightViolVD3C$AgencyName[detBlightViolVD3C$AgencyName==\"Detroit Police Department\"] <- 4\n",
    "\n",
    "detBlightViolVD3C$AgencyName[is.na(detBlightViolVD3C$AgencyName)] <- as.numeric(0)\n",
    "detBlightViolVD3C$AgencyName <- as.numeric(detBlightViolVD3C$AgencyName)\n",
    "detBlightViolVD3C$AgencyName[is.na(detBlightViolVD3C$AgencyName)] <- as.numeric(0)\n",
    "#detBlightViolVD3C <- na.omit(detBlightViolVD3C)\n"
   ]
  },
  {
   "cell_type": "code",
   "execution_count": 10,
   "metadata": {
    "collapsed": false
   },
   "outputs": [
    {
     "data": {
      "text/html": [
       "0"
      ],
      "text/latex": [
       "0"
      ],
      "text/markdown": [
       "0"
      ],
      "text/plain": [
       "[1] 0"
      ]
     },
     "metadata": {},
     "output_type": "display_data"
    },
    {
     "data": {
      "text/html": [
       "1680"
      ],
      "text/latex": [
       "1680"
      ],
      "text/markdown": [
       "1680"
      ],
      "text/plain": [
       "[1] 1680"
      ]
     },
     "metadata": {},
     "output_type": "display_data"
    },
    {
     "data": {
      "text/html": [
       "1500"
      ],
      "text/latex": [
       "1500"
      ],
      "text/markdown": [
       "1500"
      ],
      "text/plain": [
       "[1] 1500"
      ]
     },
     "metadata": {},
     "output_type": "display_data"
    },
    {
     "data": {
      "text/html": [
       "20"
      ],
      "text/latex": [
       "20"
      ],
      "text/markdown": [
       "20"
      ],
      "text/plain": [
       "[1] 20"
      ]
     },
     "metadata": {},
     "output_type": "display_data"
    },
    {
     "data": {
      "text/html": [
       "150"
      ],
      "text/latex": [
       "150"
      ],
      "text/markdown": [
       "150"
      ],
      "text/plain": [
       "[1] 150"
      ]
     },
     "metadata": {},
     "output_type": "display_data"
    },
    {
     "data": {
      "text/html": [
       "307804"
      ],
      "text/latex": [
       "307804"
      ],
      "text/markdown": [
       "307804"
      ],
      "text/plain": [
       "[1] 307804"
      ]
     },
     "metadata": {},
     "output_type": "display_data"
    },
    {
     "data": {
      "text/plain": [
       "     LAT                LNG                gh_8               gh_7          \n",
       " Length:307804      Length:307804      Length:307804      Length:307804     \n",
       " Class :character   Class :character   Class :character   Class :character  \n",
       " Mode  :character   Mode  :character   Mode  :character   Mode  :character  \n",
       "                                                                            \n",
       "                                                                            \n",
       "                                                                            \n",
       " dbv_ngbr_8_ct   ddp_ngbr_8_ct    d311_ngbr_8_ct    dcr_ngbr_8_ct    \n",
       " Min.   :    1   Min.   :  0.00   Min.   : 0.0000   Min.   : 0.0000  \n",
       " 1st Qu.:    4   1st Qu.:  0.00   1st Qu.: 0.0000   1st Qu.: 0.0000  \n",
       " Median :    7   Median :  0.00   Median : 0.0000   Median : 0.0000  \n",
       " Mean   : 1562   Mean   : 38.37   Mean   : 0.0419   Mean   : 0.8085  \n",
       " 3rd Qu.:   14   3rd Qu.:  0.00   3rd Qu.: 0.0000   3rd Qu.: 0.0000  \n",
       " Max.   :21114   Max.   :548.00   Max.   :65.0000   Max.   :59.0000  \n",
       " ViolationCategory   CleanUpCost         JudgmentAmt      PaymentStatus  \n",
       " Min.   :0.000000   Min.   :    0.000   Min.   :    0.0   Min.   :1.000  \n",
       " 1st Qu.:0.000000   1st Qu.:    0.000   1st Qu.:  140.0   1st Qu.:3.000  \n",
       " Median :0.000000   Median :    0.000   Median :  305.0   Median :3.000  \n",
       " Mean   :0.006553   Mean   :    0.515   Mean   :  422.5   Mean   :2.744  \n",
       " 3rd Qu.:0.000000   3rd Qu.:    0.000   3rd Qu.:  305.0   3rd Qu.:3.000  \n",
       " Max.   :1.000000   Max.   :13123.800   Max.   :11030.0   Max.   :4.000  \n",
       "    FineAmt           AdminFee     LateFee         AgencyName   \n",
       " Min.   :    0.0   Min.   :20   Min.   :   0.0   Min.   :0.000  \n",
       " 1st Qu.:  100.0   1st Qu.:20   1st Qu.:  10.0   1st Qu.:1.000  \n",
       " Median :  250.0   Median :20   Median :  25.0   Median :2.000  \n",
       " Mean   :  357.9   Mean   :20   Mean   :  35.8   Mean   :1.746  \n",
       " 3rd Qu.:  250.0   3rd Qu.:20   3rd Qu.:  25.0   3rd Qu.:2.000  \n",
       " Max.   :10000.0   Max.   :20   Max.   :1000.0   Max.   :4.000  \n",
       "   Demolished    \n",
       " Min.   :0.0000  \n",
       " 1st Qu.:0.0000  \n",
       " Median :0.0000  \n",
       " Mean   :0.1619  \n",
       " 3rd Qu.:0.0000  \n",
       " Max.   :1.0000  "
      ]
     },
     "metadata": {},
     "output_type": "display_data"
    }
   ],
   "source": [
    "ifelse ((!is.na(detBlightViolVD3C$CleanUpCost) || detBlightViolVD3C$CleanUpCost != \"\"),\n",
    "    detBlightViolVD3C$CleanUpCost <- as.numeric(sub('\\\\$','',(as.character(detBlightViolVD3C$CleanUpCost)))),\n",
    "    detBlightViolVD3C$CleanUpCost <- as.numeric(0))\n",
    "    \n",
    "ifelse ((!is.na(detBlightViolVD3C$JudgmentAmt) || detBlightViolVD3C$JudgmentAmt != \"\"),\n",
    "    detBlightViolVD3C$JudgmentAmt <- as.numeric(sub('\\\\$','',(as.character(detBlightViolVD3C$JudgmentAmt)))),\n",
    "    detBlightViolVD3C$JudgmentAmt <- as.numeric(0))\n",
    "detBlightViolVD3C$JudgmentAmt[is.na(detBlightViolVD3C$JudgmentAmt)] <- as.numeric(0)\n",
    "\n",
    "ifelse ((!is.na(detBlightViolVD3C$FineAmt) || detBlightViolVD3C$FineAmt != \"\"),\n",
    "    detBlightViolVD3C$FineAmt <- as.numeric(sub('\\\\$','',(as.character(detBlightViolVD3C$FineAmt)))),\n",
    "    detBlightViolVD3C$FineAmt <- as.numeric(0))\n",
    "detBlightViolVD3C$FineAmt[is.na(detBlightViolVD3C$FineAmt)] <- as.numeric(0)\n",
    "\n",
    "ifelse ((!is.na(detBlightViolVD3C$AdminFee) || detBlightViolVD3C$AdminFee != \"\"),\n",
    "    detBlightViolVD3C$AdminFee <- as.numeric(sub('\\\\$','',(as.character(detBlightViolVD3C$AdminFee)))),\n",
    "    detBlightViolVD3C$AdminFee <- as.numeric(0))\n",
    "\n",
    "ifelse ((!is.na(detBlightViolVD3C$LateFee) || detBlightViolVD3C$LateFee != \"\"),\n",
    "    detBlightViolVD3C$LateFee <- as.numeric(sub('\\\\$','',(as.character(detBlightViolVD3C$LateFee)))),\n",
    "    detBlightViolVD3C$LateFee <- as.numeric(0))\n",
    "\n",
    "detBlightViolVD3C$ddp_ngbr_8_ct[is.na(detBlightViolVD3C$ddp_ngbr_8_ct)] <- as.numeric(0)\n",
    "detBlightViolVD3C$d311_ngbr_8_ct[is.na(detBlightViolVD3C$d311_ngbr_8_ct)] <- as.numeric(0)\n",
    "detBlightViolVD3C$dcr_ngbr_8_ct[is.na(detBlightViolVD3C$dcr_ngbr_8_ct)] <- as.numeric(0)\n",
    "\n",
    "detBlightViolVD3C$Demolished[detBlightViolVD3C$ddp_ngbr_8_ct >0 ] <- 1\n",
    "detBlightViolVD3C$Demolished[detBlightViolVD3C$ddp_ngbr_8_ct <=0 ] <- 0\n",
    "\n",
    "nrow(detBlightViolVD3C)\n",
    "summary(detBlightViolVD3C)\n"
   ]
  },
  {
   "cell_type": "code",
   "execution_count": 77,
   "metadata": {
    "collapsed": false
   },
   "outputs": [
    {
     "data": {
      "text/html": [
       "67974"
      ],
      "text/latex": [
       "67974"
      ],
      "text/markdown": [
       "67974"
      ],
      "text/plain": [
       "[1] 67974"
      ]
     },
     "metadata": {},
     "output_type": "display_data"
    }
   ],
   "source": [
    "\n",
    "detBlightViolVD3C <- detBlightViolVD3C %>%\n",
    "      group_by(gh_8) %>%\n",
    "      summarize(m_dbv_ngbr_8_ct=mean(dbv_ngbr_8_ct, na.rm=TRUE), \n",
    "                m_ddp_ngbr_8_ct=mean(ddp_ngbr_8_ct, na.rm=TRUE),\n",
    "                m_d311_ngbr_8_ct=mean(d311_ngbr_8_ct, na.rm=TRUE),\n",
    "                m_ViolationCategory=max(ViolationCategory, na.rm=TRUE),\n",
    "                s_CleanUpCost=sum(CleanUpCost, na.rm=TRUE),\n",
    "                s_JudgmentAmt=sum(JudgmentAmt, na.rm=TRUE),\n",
    "                m_PaymentStatus=mean(PaymentStatus, na.rm=TRUE),\n",
    "                s_FineAmt=sum(FineAmt, na.rm=TRUE),\n",
    "                s_LateFee=sum(LateFee, na.rm=TRUE),\n",
    "                m_AgencyName=max(AgencyName, na.rm=TRUE),\n",
    "                m_Demolished=max(Demolished, na.rm=TRUE))\n",
    "             "
   ]
  },
  {
   "cell_type": "code",
   "execution_count": 85,
   "metadata": {
    "collapsed": false
   },
   "outputs": [
    {
     "data": {
      "text/html": [
       "<table>\n",
       "<thead><tr><th scope=col>count(*)</th></tr></thead>\n",
       "<tbody>\n",
       "\t<tr><td>2204</td></tr>\n",
       "</tbody>\n",
       "</table>\n"
      ],
      "text/latex": [
       "\\begin{tabular}{r|l}\n",
       " count(*)\\\\\n",
       "\\hline\n",
       "\t 2204\\\\\n",
       "\\end{tabular}\n"
      ],
      "text/markdown": [
       "\n",
       "count(*) | \n",
       "|---|\n",
       "| 2204 | \n",
       "\n",
       "\n"
      ],
      "text/plain": [
       "  count(*)\n",
       "1 2204    "
      ]
     },
     "metadata": {},
     "output_type": "display_data"
    }
   ],
   "source": [
    "library(sqldf)\n",
    "sqldf(\"select count(*) from 'detBlightViolVD3C' where m_Demolished=1\")"
   ]
  },
  {
   "cell_type": "code",
   "execution_count": 108,
   "metadata": {
    "collapsed": false
   },
   "outputs": [
    {
     "data": {
      "text/plain": [
       "     gh_8           m_dbv_ngbr_8_ct     m_ddp_ngbr_8_ct    m_d311_ngbr_8_ct  \n",
       " Length:67974       Min.   :    1.000   Min.   :  0.0000   Min.   : 0.00000  \n",
       " Class :character   1st Qu.:    1.000   1st Qu.:  0.0000   1st Qu.: 0.00000  \n",
       " Mode  :character   Median :    3.000   Median :  0.0000   Median : 0.00000  \n",
       "                    Mean   :    4.528   Mean   :  0.0669   Mean   : 0.04191  \n",
       "                    3rd Qu.:    5.000   3rd Qu.:  0.0000   3rd Qu.: 0.00000  \n",
       "                    Max.   :21114.000   Max.   :548.0000   Max.   :65.00000  \n",
       " m_ViolationCategory s_CleanUpCost      s_JudgmentAmt     m_PaymentStatus\n",
       " Min.   :0.000000    Min.   :    0.00   Min.   :      0   Min.   :1.000  \n",
       " 1st Qu.:0.000000    1st Qu.:    0.00   1st Qu.:    305   1st Qu.:2.500  \n",
       " Median :0.000000    Median :    0.00   Median :    860   Median :3.000  \n",
       " Mean   :0.007797    Mean   :    2.33   Mean   :   1913   Mean   :2.681  \n",
       " 3rd Qu.:0.000000    3rd Qu.:    0.00   3rd Qu.:   1910   3rd Qu.:3.000  \n",
       " Max.   :1.000000    Max.   :36020.81   Max.   :8666200   Max.   :4.000  \n",
       "   s_FineAmt         s_LateFee         m_AgencyName   m_Demolished    \n",
       " Min.   :      0   Min.   :     0.0   Min.   :0.00   Min.   :0.00000  \n",
       " 1st Qu.:    250   1st Qu.:    25.0   1st Qu.:1.00   1st Qu.:0.00000  \n",
       " Median :    700   Median :    70.0   Median :2.00   Median :0.00000  \n",
       " Mean   :   1620   Mean   :   162.1   Mean   :1.95   Mean   :0.04622  \n",
       " 3rd Qu.:   1550   3rd Qu.:   155.0   3rd Qu.:2.00   3rd Qu.:0.00000  \n",
       " Max.   :7324780   Max.   :732777.5   Max.   :4.00   Max.   :1.00000  "
      ]
     },
     "metadata": {},
     "output_type": "display_data"
    }
   ],
   "source": [
    "indexes = sample(nrow(detBlightViolVD3C), size=0.3*nrow(detBlightViolVD3C))\n",
    "train = detBlightViolVD3C[indexes,]\n",
    "test = detBlightViolVD3C[-indexes,]\n",
    "summary(detBlightViolVD3C)"
   ]
  },
  {
   "cell_type": "code",
   "execution_count": 109,
   "metadata": {
    "collapsed": false
   },
   "outputs": [],
   "source": [
    "fol <- formula(m_Demolished ~ m_dbv_ngbr_8_ct + m_ddp_ngbr_8_ct + m_d311_ngbr_8_ct  +\n",
    "                s_CleanUpCost + s_JudgmentAmt + m_PaymentStatus +\n",
    "                s_FineAmt + s_LateFee + m_AgencyName )"
   ]
  },
  {
   "cell_type": "code",
   "execution_count": 126,
   "metadata": {
    "collapsed": false
   },
   "outputs": [
    {
     "name": "stdout",
     "output_type": "stream",
     "text": [
      "Call:\n",
      "rpart(formula = fol, data = train, na.action = na.omit, method = \"class\")\n",
      "  n= 20392 \n",
      "\n",
      "    CP nsplit rel error xerror       xstd\n",
      "1 1.00      0         1      1 0.03249513\n",
      "2 0.01      1         0      0 0.00000000\n",
      "\n",
      "Variable importance\n",
      "m_ddp_ngbr_8_ct \n",
      "             99 \n",
      "\n",
      "Node number 1: 20392 observations,    complexity param=1\n",
      "  predicted class=0  expected loss=0.04438015  P(node) =1\n",
      "    class counts: 19487   905\n",
      "   probabilities: 0.956 0.044 \n",
      "  left son=2 (19487 obs) right son=3 (905 obs)\n",
      "  Primary splits:\n",
      "      m_ddp_ngbr_8_ct < 0.5      to the left,  improve=1729.672000, (0 missing)\n",
      "      s_JudgmentAmt   < 1273.75  to the left,  improve=   7.447412, (0 missing)\n",
      "      s_FineAmt       < 1437.5   to the left,  improve=   7.418458, (0 missing)\n",
      "      s_LateFee       < 143.75   to the left,  improve=   7.406214, (0 missing)\n",
      "      m_dbv_ngbr_8_ct < 3.5      to the left,  improve=   5.582312, (0 missing)\n",
      "  Surrogate splits:\n",
      "      m_dbv_ngbr_8_ct < 734      to the left,  agree=0.956, adj=0.002, (0 split)\n",
      "      s_JudgmentAmt   < 805083.8 to the left,  agree=0.956, adj=0.002, (0 split)\n",
      "      s_FineAmt       < 305267.5 to the left,  agree=0.956, adj=0.001, (0 split)\n",
      "      s_LateFee       < 30578.75 to the left,  agree=0.956, adj=0.001, (0 split)\n",
      "\n",
      "Node number 2: 19487 observations\n",
      "  predicted class=0  expected loss=0  P(node) =0.9556199\n",
      "    class counts: 19487     0\n",
      "   probabilities: 1.000 0.000 \n",
      "\n",
      "Node number 3: 905 observations\n",
      "  predicted class=1  expected loss=0  P(node) =0.04438015\n",
      "    class counts:     0   905\n",
      "   probabilities: 0.000 1.000 \n",
      "\n"
     ]
    }
   ],
   "source": [
    "library(rpart)\n",
    "library(caret)\n",
    "\n",
    "rpModel <- rpart(fol, method=\"class\", data=train, na.action = na.omit)\n",
    "summary(rpModel)\n",
    "rpPred <- predict(rpModel, newdata = test, na.action = na.omit)\n"
   ]
  },
  {
   "cell_type": "code",
   "execution_count": 125,
   "metadata": {
    "collapsed": false
   },
   "outputs": [
    {
     "name": "stderr",
     "output_type": "stream",
     "text": [
      "Warning message in randomForest.default(m, y, ...):\n",
      "“The response has five or fewer unique values.  Are you sure you want to do regression?”"
     ]
    },
    {
     "name": "stdout",
     "output_type": "stream",
     "text": [
      "\n",
      "Call:\n",
      " randomForest(formula = fol, data = train, na.action = na.omit) \n",
      "               Type of random forest: regression\n",
      "                     Number of trees: 500\n",
      "No. of variables tried at each split: 3\n",
      "\n",
      "          Mean of squared residuals: 2.348531e-05\n",
      "                    % Var explained: 99.94\n"
     ]
    }
   ],
   "source": [
    "library(party)\n",
    "library(randomForest)\n",
    "\n",
    "rfModel <- randomForest(fol, data=train, na.action = na.omit)\n",
    "print(rfModel)\n",
    "rfPred <- predict(rfModel, newdata = test, na.action = na.omit)\n",
    "rfTbl <- table(rfPred, test$m_Demolished)\n"
   ]
  },
  {
   "cell_type": "code",
   "execution_count": 142,
   "metadata": {
    "collapsed": false
   },
   "outputs": [
    {
     "name": "stderr",
     "output_type": "stream",
     "text": [
      "Warning message in chisq.test(test$m_Demolished, test$m_ddp_ngbr_8_ct):\n",
      "“Chi-squared approximation may be incorrect”"
     ]
    },
    {
     "name": "stdout",
     "output_type": "stream",
     "text": [
      "\n",
      "\tPearson's Chi-squared test\n",
      "\n",
      "data:  test$m_Demolished and test$m_ddp_ngbr_8_ct\n",
      "X-squared = 47582, df = 10, p-value < 2.2e-16\n",
      "\n"
     ]
    }
   ],
   "source": [
    "library(MASS)\n",
    "print(chisq.test(test$m_Demolished, test$m_ddp_ngbr_8_ct))"
   ]
  },
  {
   "cell_type": "code",
   "execution_count": 143,
   "metadata": {
    "collapsed": false
   },
   "outputs": [
    {
     "name": "stderr",
     "output_type": "stream",
     "text": [
      "\n",
      "Attaching package: ‘survival’\n",
      "\n",
      "The following object is masked from ‘package:caret’:\n",
      "\n",
      "    cluster\n",
      "\n"
     ]
    }
   ],
   "source": [
    "library(\"survival\")"
   ]
  },
  {
   "cell_type": "code",
   "execution_count": null,
   "metadata": {
    "collapsed": true
   },
   "outputs": [],
   "source": []
  }
 ],
 "metadata": {
  "anaconda-cloud": {},
  "kernelspec": {
   "display_name": "R",
   "language": "R",
   "name": "ir"
  },
  "language_info": {
   "codemirror_mode": "r",
   "file_extension": ".r",
   "mimetype": "text/x-r-source",
   "name": "R",
   "pygments_lexer": "r",
   "version": "3.3.2"
  }
 },
 "nbformat": 4,
 "nbformat_minor": 1
}
